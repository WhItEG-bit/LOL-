{
 "cells": [
  {
   "cell_type": "markdown",
   "metadata": {},
   "source": [
    "导入必要的库函数，这里主要用的是sklearn、pandas、matplotlib、numpy"
   ]
  },
  {
   "cell_type": "code",
   "execution_count": null,
   "metadata": {},
   "outputs": [],
   "source": [
    "import pandas as pd\n",
    "from sklearn.tree import DecisionTreeClassifier\n",
    "from sklearn.model_selection import train_test_split\n",
    "from sklearn.model_selection import GridSearchCV\n",
    "from sklearn.model_selection import cross_val_score\n",
    "import matplotlib.pyplot as plt\n",
    "import numpy as np"
   ]
  },
  {
   "cell_type": "markdown",
   "metadata": {},
   "source": [
    "清洗数据 我清洗的我认为无关的数据，数据集在github文件夹里，需要下载"
   ]
  },
  {
   "cell_type": "code",
   "execution_count": null,
   "metadata": {},
   "outputs": [],
   "source": [
    "data = pd.read_csv(r\"你存这个数据集的路径\\high_diamond_ranked_10min.csv\")\n",
    "#这个很重要的哦\n",
    "data.drop([\"gameId\"\n",
    "           ,\"blueWardsPlaced\"\n",
    "           ,\"blueWardsDestroyed\"\n",
    "           #,\"blueAssists\"\n",
    "           #,\"blueEliteMonsters\"\n",
    "           ,\"blueAvgLevel\"\n",
    "           ,\"blueTotalJungleMinionsKilled\"\n",
    "           ,\"blueCSPerMin\"\n",
    "           ,\"blueGoldPerMin\"\n",
    "           ,\"blueGoldDiff\"\n",
    "           ,\"blueExperienceDiff\"\n",
    "           ,\"blueTotalExperience\"\n",
    "           ,\"redWardsPlaced\"\n",
    "           ,\"redWardsDestroyed\"\n",
    "           ,\"redFirstBlood\"\n",
    "           ,\"redKills\"\n",
    "           ,\"redDeaths\"\n",
    "           #,\"redAssists\"\n",
    "           #,\"redEliteMonsters\"\n",
    "           ,\"redAvgLevel\"\n",
    "           ,\"redTotalJungleMinionsKilled\"\n",
    "           ,\"redGoldDiff\"\n",
    "           ,\"redExperienceDiff\"\n",
    "           ,\"redTotalExperience\"\n",
    "           ,\"redCSPerMin\"\n",
    "           ,\"redGoldPerMin\"],inplace = True ,axis = 1)\n",
    "\n",
    "x = data.iloc[:,data.columns != \"blueWins\"] #数据的特征\n",
    "y = data.iloc[:,data.columns == \"blueWins\"] #数据的标签\n",
    "\n",
    "Xtrain, Xtest, Ytrain, Ytest = train_test_split(x,y,test_size = 0.3)\n",
    "\n",
    "for i in [Xtrain, Xtest, Ytrain, Ytest]:\n",
    "    i.index = range(i.shape[0])\n",
    "lol = DecisionTreeClassifier(random_state=0)#实例化\n",
    "lol = lol.fit(Xtrain,Ytrain)\n",
    "\n",
    "score_ = lol.score(Xtest,Ytest)\n",
    "score_#考虑是不是要剪枝，纯度太低了，剪枝吧\n",
    "\n",
    "score = cross_val_score(lol,x,y,cv = 10).mean()\n",
    "score#精确度很低"
   ]
  },
  {
   "cell_type": "markdown",
   "metadata": {},
   "source": [
    "决策树的关键在于剪枝,先看看有没有过拟合"
   ]
  },
  {
   "cell_type": "code",
   "execution_count": null,
   "metadata": {},
   "outputs": [],
   "source": [
    "tr = []\n",
    "te = []\n",
    "for i in range(30):\n",
    "    lol = DecisionTreeClassifier(random_state=0\n",
    "                                ,max_depth=i+1\n",
    "                                #,criterion=\"entropy\" #用不用基尼系数的影响不大\n",
    "                                )\n",
    "    lol = lol.fit(Xtrain,Ytrain)\n",
    "    score_tr = lol.score(Xtrain,Ytrain)\n",
    "    score_te = cross_val_score(lol,x,y,cv = 10).mean()\n",
    "    tr.append(score_tr)\n",
    "    te.append(score_te)\n",
    "print(max(te))\n",
    "plt.plot(range(1,31),tr,color = \"red\",label = \"train\")\n",
    "plt.plot(range(1,31),te,color = \"blue\",label = \"test\")\n",
    "plt.xticks(range(1,31))\n",
    "plt.legend()\n",
    "plt.show()"
   ]
  },
  {
   "cell_type": "markdown",
   "metadata": {},
   "source": [
    "利用网格搜索技术——暴力破解得到相对最优参数"
   ]
  },
  {
   "cell_type": "code",
   "execution_count": null,
   "metadata": {},
   "outputs": [],
   "source": [
    "import numpy as np\n",
    "gini_thresholds = np.linspace(0,0.5,20)\n",
    "\n",
    "parameters = {'splitter':('best','random')\n",
    "             ,'criterion':('gini','entropy')\n",
    "             ,'max_depth':[5]#刚才最大深度已经搜索出来就是5\n",
    "             ,'min_samples_leaf':[*range(1,50,5)]\n",
    "             ,'min_impurity_decrease':[*np.linspace(0,0.5,20)]\n",
    "             }\n",
    "lol = DecisionTreeClassifier(random_state=0)\n",
    "GS = GridSearchCV(lol,parameters,cv = 10)\n",
    "GS.fit(Xtrain, Ytrain)\n",
    "\n",
    "GS.best_params_\n",
    "\n",
    "GS.best_score_\n",
    "#可以得到最终的决策树参数"
   ]
  },
  {
   "cell_type": "markdown",
   "metadata": {},
   "source": [
    "用网格参数得到最佳参数，得到最后的训练模型"
   ]
  },
  {
   "cell_type": "code",
   "execution_count": null,
   "metadata": {},
   "outputs": [],
   "source": [
    "lol = DecisionTreeClassifier(random_state=0\n",
    "                            ,criterion = 'entropy'\n",
    "                            ,max_depth = 5\n",
    "                            ,min_impurity_decrease = 0.0\n",
    "                            ,min_samples_leaf = 46\n",
    "                            ,splitter ='best')#实例化\n",
    "lol = lol.fit(Xtrain,Ytrain)"
   ]
  },
  {
   "cell_type": "markdown",
   "metadata": {},
   "source": [
    "输入输出阶段"
   ]
  },
  {
   "cell_type": "code",
   "execution_count": null,
   "metadata": {},
   "outputs": [],
   "source": [
    "import csv\n",
    "lis = ['blueFirstBlood'\n",
    "                 ,'blueKills'\n",
    "                 ,'blueDeaths'\n",
    "                 ,'blueAssists'\n",
    "                 ,'blueEliteMonsters'\n",
    "                 ,'blueDragons'\n",
    "                 ,'blueHeralds'\n",
    "                 ,'blueTowersDestroyed'\n",
    "                 ,'blueTotalGold'\n",
    "                 ,'blueTotalMinionsKilled'\n",
    "                 ,'redAssists'\n",
    "                 ,'redEliteMonsters'\n",
    "                 ,'redDragons'\n",
    "                 ,'redHeralds'\n",
    "                 ,'redTowersDestroyed'\n",
    "                 ,'redTotalGold'\n",
    "                 ,'redTotalMinionsKilled']\n",
    "header = np.array(lis)\n",
    "\n",
    "lol_data = []\n",
    "for i in range(17):\n",
    "    print(\"Please Iuput \"+lis[i]+\" : \",end='')\n",
    "    s = int(input())\n",
    "    lol_data.append([s])\n",
    "    \n",
    "lol_data = np.array(lol_data)\n",
    "\n",
    "with open('lol.csv','w',newline='') as f:\n",
    "    f_csv = csv.writer(f)\n",
    "    f_csv.writerow(header)\n",
    "    f_csv.writerows(lol_data.T)\n",
    "\n",
    "want_data = pd.read_csv(r'lol.csv')\n",
    "\n",
    "print()\n",
    "if lol.predict(want_data) == 1:\n",
    "    print(\"BlueTeamWin, Probability: \"+str(lol.predict_proba(want_data)[0][1]))\n",
    "else:\n",
    "    print(\"BlueTeamLose, Probability: \"+str(lol.predict_proba(want_data)[0][0]))\n",
    "\n",
    "import os\n",
    "os.remove('lol.csv')"
   ]
  }
 ],
 "metadata": {
  "kernelspec": {
   "display_name": "Python 3.8.1 64-bit",
   "language": "python",
   "name": "python38164bit9bef82662d444cdb91c2d98a07e6a055"
  },
  "language_info": {
   "codemirror_mode": {
    "name": "ipython",
    "version": 3
   },
   "file_extension": ".py",
   "mimetype": "text/x-python",
   "name": "python",
   "nbconvert_exporter": "python",
   "pygments_lexer": "ipython3",
   "version": "3.8.1"
  }
 },
 "nbformat": 4,
 "nbformat_minor": 4
}
